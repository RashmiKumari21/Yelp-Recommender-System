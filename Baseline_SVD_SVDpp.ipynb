{
 "cells": [
  {
   "cell_type": "code",
   "execution_count": 1,
   "metadata": {},
   "outputs": [],
   "source": [
    "from surprise.model_selection import cross_validate\n",
    "import pandas as pd\n",
    "import numpy as np\n",
    "import os, io\n",
    "from surprise import SVDpp\n",
    "from surprise import accuracy\n",
    "from surprise import Reader, Dataset, SVD, evaluate\n",
    "from surprise import SVDpp\n",
    "from surprise import BaselineOnly\n",
    "\n",
    "from surprise.model_selection import train_test_split\n",
    "\n",
    "import warnings\n",
    "warnings.filterwarnings(\"ignore\")"
   ]
  },
  {
   "cell_type": "code",
   "execution_count": 2,
   "metadata": {},
   "outputs": [],
   "source": [
    "#Reading training and testing dataset\n",
    "dftrain = pd.read_csv('yelp_restaurant_train.csv')\n",
    "dftest = pd.read_csv('yelp_restaurant_test.csv')"
   ]
  },
  {
   "cell_type": "code",
   "execution_count": 6,
   "metadata": {},
   "outputs": [],
   "source": [
    "reader = Reader()\n",
    "datatrain = Dataset.load_from_df(dftrain[['user_id', 'business_id', 'stars']], reader)"
   ]
  },
  {
   "cell_type": "code",
   "execution_count": 22,
   "metadata": {},
   "outputs": [
    {
     "data": {
      "text/html": [
       "<div>\n",
       "<style scoped>\n",
       "    .dataframe tbody tr th:only-of-type {\n",
       "        vertical-align: middle;\n",
       "    }\n",
       "\n",
       "    .dataframe tbody tr th {\n",
       "        vertical-align: top;\n",
       "    }\n",
       "\n",
       "    .dataframe thead th {\n",
       "        text-align: right;\n",
       "    }\n",
       "</style>\n",
       "<table border=\"1\" class=\"dataframe\">\n",
       "  <thead>\n",
       "    <tr style=\"text-align: right;\">\n",
       "      <th></th>\n",
       "      <th>business_id</th>\n",
       "      <th>date</th>\n",
       "      <th>review_id</th>\n",
       "      <th>text</th>\n",
       "      <th>user_id</th>\n",
       "      <th>attributes</th>\n",
       "      <th>name</th>\n",
       "      <th>city</th>\n",
       "      <th>categories</th>\n",
       "      <th>avg_business_stars</th>\n",
       "      <th>avg_user_star</th>\n",
       "      <th>stars</th>\n",
       "    </tr>\n",
       "  </thead>\n",
       "  <tbody>\n",
       "    <tr>\n",
       "      <th>0</th>\n",
       "      <td>fF6a_EDp0-P5Ve9Kp4WgfA</td>\n",
       "      <td>2016-08-14 01:51:06</td>\n",
       "      <td>0y8_GWd4oNpunpVEKf9R1A</td>\n",
       "      <td>The Food Good it depends on what you like comp...</td>\n",
       "      <td>vrC1d_ClcnkMqcZ7Tzsqmg</td>\n",
       "      <td>{'WiFi': \"'no'\", 'RestaurantsTakeOut': 'True',...</td>\n",
       "      <td>Dragon Buffet</td>\n",
       "      <td>Medina</td>\n",
       "      <td>Restaurants, Buffets</td>\n",
       "      <td>3.5</td>\n",
       "      <td>2.63</td>\n",
       "      <td>5.0</td>\n",
       "    </tr>\n",
       "    <tr>\n",
       "      <th>1</th>\n",
       "      <td>QnCBkwWiu19YPNnSDyF6eA</td>\n",
       "      <td>2017-10-31 15:24:01</td>\n",
       "      <td>eoEGtsGLRtlnokIWqzdtfg</td>\n",
       "      <td>I use to think that the Korean Restaurant had ...</td>\n",
       "      <td>zDKszv6zpuLsVhPFZLctXQ</td>\n",
       "      <td>{'Caters': 'False', 'BusinessParking': \"{'gara...</td>\n",
       "      <td>Super G Mart</td>\n",
       "      <td>Charlotte</td>\n",
       "      <td>Seafood Markets, Ethnic Food, Grocery, Food, S...</td>\n",
       "      <td>4.0</td>\n",
       "      <td>3.44</td>\n",
       "      <td>3.0</td>\n",
       "    </tr>\n",
       "    <tr>\n",
       "      <th>2</th>\n",
       "      <td>Q5olb1x6FGk2oLAlc9p5Lg</td>\n",
       "      <td>2017-01-21 19:18:20</td>\n",
       "      <td>0lsWHNDo-n4vP-T89mLVAA</td>\n",
       "      <td>We used yelp to find someplace for tonight and...</td>\n",
       "      <td>fe7cNj_ySXNEnpTcsNhnUA</td>\n",
       "      <td>{'BikeParking': 'True', 'Caters': 'False', 'Bu...</td>\n",
       "      <td>Bonefish Grill</td>\n",
       "      <td>Las Vegas</td>\n",
       "      <td>Seafood, Restaurants, Nightlife, American (New...</td>\n",
       "      <td>3.5</td>\n",
       "      <td>4.66</td>\n",
       "      <td>5.0</td>\n",
       "    </tr>\n",
       "    <tr>\n",
       "      <th>3</th>\n",
       "      <td>UkFMV7WGFfE_u8zyUkkuqg</td>\n",
       "      <td>2015-08-15 18:14:16</td>\n",
       "      <td>Z8wiunFnj9SbtlVGhbeBmg</td>\n",
       "      <td>Went here with my son busy place I knew it had...</td>\n",
       "      <td>M2ywRTY1UYTiJEDp2x14yQ</td>\n",
       "      <td>{'RestaurantsPriceRange2': '1', 'BusinessParki...</td>\n",
       "      <td>La Flor de Michoacan</td>\n",
       "      <td>Las Vegas</td>\n",
       "      <td>Ice Cream &amp; Frozen Yogurt, Juice Bars &amp; Smooth...</td>\n",
       "      <td>4.0</td>\n",
       "      <td>3.31</td>\n",
       "      <td>4.0</td>\n",
       "    </tr>\n",
       "    <tr>\n",
       "      <th>4</th>\n",
       "      <td>GdnLAgRXt43eISMtJEOZRg</td>\n",
       "      <td>2013-05-31 04:00:37</td>\n",
       "      <td>wHr1eE2WAiFsTijXX0F0kw</td>\n",
       "      <td>I was excited to try this place out and then Y...</td>\n",
       "      <td>BS3qOK1iRLcWtoV9KnwyXg</td>\n",
       "      <td>{'HasTV': 'True', 'RestaurantsReservations': '...</td>\n",
       "      <td>Sushi Express</td>\n",
       "      <td>Madison</td>\n",
       "      <td>Restaurants, Japanese, Sushi Bars</td>\n",
       "      <td>4.0</td>\n",
       "      <td>3.07</td>\n",
       "      <td>4.0</td>\n",
       "    </tr>\n",
       "    <tr>\n",
       "      <th>5</th>\n",
       "      <td>V3G5Jxs02jjS_CDLvv-rWg</td>\n",
       "      <td>2017-07-26 20:22:34</td>\n",
       "      <td>Ou7ARWV7Mchaw_8HdErJGA</td>\n",
       "      <td>Awesome spot for off the menu veggie burgers. ...</td>\n",
       "      <td>JktkPizuRAA32z-m1UCsBw</td>\n",
       "      <td>{'BusinessParking': \"{'garage': False, 'street...</td>\n",
       "      <td>Carl's Jr.</td>\n",
       "      <td>Las Vegas</td>\n",
       "      <td>Food, Restaurants, Fast Food</td>\n",
       "      <td>3.0</td>\n",
       "      <td>4.23</td>\n",
       "      <td>5.0</td>\n",
       "    </tr>\n",
       "    <tr>\n",
       "      <th>6</th>\n",
       "      <td>s9zNmeJIu83WVL56QNLD2A</td>\n",
       "      <td>2014-07-21 06:36:24</td>\n",
       "      <td>t8aziQmWCX0KtqpAuNWBGw</td>\n",
       "      <td>We came here 1x so this is based on our first ...</td>\n",
       "      <td>r6L-5woBXYLTj_yzw5sjTw</td>\n",
       "      <td>{'Caters': 'True', 'NoiseLevel': \"u'average'\",...</td>\n",
       "      <td>Panda Express</td>\n",
       "      <td>Las Vegas</td>\n",
       "      <td>Chinese, Restaurants, Fast Food</td>\n",
       "      <td>2.5</td>\n",
       "      <td>4.18</td>\n",
       "      <td>4.0</td>\n",
       "    </tr>\n",
       "    <tr>\n",
       "      <th>7</th>\n",
       "      <td>HsEStDB_LB6x0LuXQ6LP4A</td>\n",
       "      <td>2017-06-17 05:23:57</td>\n",
       "      <td>ThJ6LrElKlfYipm1fJI8DA</td>\n",
       "      <td>Absolutely, hands down amazing to every homema...</td>\n",
       "      <td>hwsXsatp_p0jrU2NVx_Frg</td>\n",
       "      <td>{'BikeParking': 'True', 'GoodForMeal': \"{'dess...</td>\n",
       "      <td>Khoury's Mediterranean Restaurant</td>\n",
       "      <td>Las Vegas</td>\n",
       "      <td>Restaurants, Sandwiches, Mediterranean, Lebane...</td>\n",
       "      <td>4.0</td>\n",
       "      <td>3.83</td>\n",
       "      <td>5.0</td>\n",
       "    </tr>\n",
       "    <tr>\n",
       "      <th>8</th>\n",
       "      <td>7sPNbCx7vGAaH7SbNPZ6oA</td>\n",
       "      <td>2012-08-21 13:23:17</td>\n",
       "      <td>u9fO9ok8Y1j6YCxAXTJMDg</td>\n",
       "      <td>I liked it.  There's no doubt about that, but ...</td>\n",
       "      <td>EGz1NDtgVbndCJ5R3F-stw</td>\n",
       "      <td>{'RestaurantsReservations': 'False', 'Caters':...</td>\n",
       "      <td>Bachi Burger</td>\n",
       "      <td>Las Vegas</td>\n",
       "      <td>Bars, American (New), Burgers, Asian Fusion, F...</td>\n",
       "      <td>4.0</td>\n",
       "      <td>4.18</td>\n",
       "      <td>3.0</td>\n",
       "    </tr>\n",
       "    <tr>\n",
       "      <th>9</th>\n",
       "      <td>ORjPznwVJRRP43orwrObMw</td>\n",
       "      <td>2014-02-06 02:57:25</td>\n",
       "      <td>_jEc4PD1ZiuJCapBcahIiA</td>\n",
       "      <td>I often visit this location as it is the neare...</td>\n",
       "      <td>5auJoXzR5LwRv3d5zEZ0mw</td>\n",
       "      <td>{'BikeParking': 'True', 'WiFi': \"u'free'\", 'Ou...</td>\n",
       "      <td>Starbucks</td>\n",
       "      <td>Scarborough</td>\n",
       "      <td>Coffee &amp; Tea, Food</td>\n",
       "      <td>3.5</td>\n",
       "      <td>3.46</td>\n",
       "      <td>3.0</td>\n",
       "    </tr>\n",
       "  </tbody>\n",
       "</table>\n",
       "</div>"
      ],
      "text/plain": [
       "              business_id                 date               review_id  \\\n",
       "0  fF6a_EDp0-P5Ve9Kp4WgfA  2016-08-14 01:51:06  0y8_GWd4oNpunpVEKf9R1A   \n",
       "1  QnCBkwWiu19YPNnSDyF6eA  2017-10-31 15:24:01  eoEGtsGLRtlnokIWqzdtfg   \n",
       "2  Q5olb1x6FGk2oLAlc9p5Lg  2017-01-21 19:18:20  0lsWHNDo-n4vP-T89mLVAA   \n",
       "3  UkFMV7WGFfE_u8zyUkkuqg  2015-08-15 18:14:16  Z8wiunFnj9SbtlVGhbeBmg   \n",
       "4  GdnLAgRXt43eISMtJEOZRg  2013-05-31 04:00:37  wHr1eE2WAiFsTijXX0F0kw   \n",
       "5  V3G5Jxs02jjS_CDLvv-rWg  2017-07-26 20:22:34  Ou7ARWV7Mchaw_8HdErJGA   \n",
       "6  s9zNmeJIu83WVL56QNLD2A  2014-07-21 06:36:24  t8aziQmWCX0KtqpAuNWBGw   \n",
       "7  HsEStDB_LB6x0LuXQ6LP4A  2017-06-17 05:23:57  ThJ6LrElKlfYipm1fJI8DA   \n",
       "8  7sPNbCx7vGAaH7SbNPZ6oA  2012-08-21 13:23:17  u9fO9ok8Y1j6YCxAXTJMDg   \n",
       "9  ORjPznwVJRRP43orwrObMw  2014-02-06 02:57:25  _jEc4PD1ZiuJCapBcahIiA   \n",
       "\n",
       "                                                text                 user_id  \\\n",
       "0  The Food Good it depends on what you like comp...  vrC1d_ClcnkMqcZ7Tzsqmg   \n",
       "1  I use to think that the Korean Restaurant had ...  zDKszv6zpuLsVhPFZLctXQ   \n",
       "2  We used yelp to find someplace for tonight and...  fe7cNj_ySXNEnpTcsNhnUA   \n",
       "3  Went here with my son busy place I knew it had...  M2ywRTY1UYTiJEDp2x14yQ   \n",
       "4  I was excited to try this place out and then Y...  BS3qOK1iRLcWtoV9KnwyXg   \n",
       "5  Awesome spot for off the menu veggie burgers. ...  JktkPizuRAA32z-m1UCsBw   \n",
       "6  We came here 1x so this is based on our first ...  r6L-5woBXYLTj_yzw5sjTw   \n",
       "7  Absolutely, hands down amazing to every homema...  hwsXsatp_p0jrU2NVx_Frg   \n",
       "8  I liked it.  There's no doubt about that, but ...  EGz1NDtgVbndCJ5R3F-stw   \n",
       "9  I often visit this location as it is the neare...  5auJoXzR5LwRv3d5zEZ0mw   \n",
       "\n",
       "                                          attributes  \\\n",
       "0  {'WiFi': \"'no'\", 'RestaurantsTakeOut': 'True',...   \n",
       "1  {'Caters': 'False', 'BusinessParking': \"{'gara...   \n",
       "2  {'BikeParking': 'True', 'Caters': 'False', 'Bu...   \n",
       "3  {'RestaurantsPriceRange2': '1', 'BusinessParki...   \n",
       "4  {'HasTV': 'True', 'RestaurantsReservations': '...   \n",
       "5  {'BusinessParking': \"{'garage': False, 'street...   \n",
       "6  {'Caters': 'True', 'NoiseLevel': \"u'average'\",...   \n",
       "7  {'BikeParking': 'True', 'GoodForMeal': \"{'dess...   \n",
       "8  {'RestaurantsReservations': 'False', 'Caters':...   \n",
       "9  {'BikeParking': 'True', 'WiFi': \"u'free'\", 'Ou...   \n",
       "\n",
       "                                name         city  \\\n",
       "0                      Dragon Buffet       Medina   \n",
       "1                       Super G Mart    Charlotte   \n",
       "2                     Bonefish Grill    Las Vegas   \n",
       "3               La Flor de Michoacan    Las Vegas   \n",
       "4                      Sushi Express      Madison   \n",
       "5                         Carl's Jr.    Las Vegas   \n",
       "6                      Panda Express    Las Vegas   \n",
       "7  Khoury's Mediterranean Restaurant    Las Vegas   \n",
       "8                       Bachi Burger    Las Vegas   \n",
       "9                          Starbucks  Scarborough   \n",
       "\n",
       "                                          categories  avg_business_stars  \\\n",
       "0                               Restaurants, Buffets                 3.5   \n",
       "1  Seafood Markets, Ethnic Food, Grocery, Food, S...                 4.0   \n",
       "2  Seafood, Restaurants, Nightlife, American (New...                 3.5   \n",
       "3  Ice Cream & Frozen Yogurt, Juice Bars & Smooth...                 4.0   \n",
       "4                  Restaurants, Japanese, Sushi Bars                 4.0   \n",
       "5                       Food, Restaurants, Fast Food                 3.0   \n",
       "6                    Chinese, Restaurants, Fast Food                 2.5   \n",
       "7  Restaurants, Sandwiches, Mediterranean, Lebane...                 4.0   \n",
       "8  Bars, American (New), Burgers, Asian Fusion, F...                 4.0   \n",
       "9                                 Coffee & Tea, Food                 3.5   \n",
       "\n",
       "   avg_user_star  stars  \n",
       "0           2.63    5.0  \n",
       "1           3.44    3.0  \n",
       "2           4.66    5.0  \n",
       "3           3.31    4.0  \n",
       "4           3.07    4.0  \n",
       "5           4.23    5.0  \n",
       "6           4.18    4.0  \n",
       "7           3.83    5.0  \n",
       "8           4.18    3.0  \n",
       "9           3.46    3.0  "
      ]
     },
     "execution_count": 22,
     "metadata": {},
     "output_type": "execute_result"
    }
   ],
   "source": [
    "dftest.head(10)"
   ]
  },
  {
   "cell_type": "code",
   "execution_count": 7,
   "metadata": {},
   "outputs": [],
   "source": [
    "bsl_options = {'method': 'als',\n",
    "               'n_epochs': 7, \n",
    "               'reg_u': 3, \n",
    "               'reg_i': 7   \n",
    "               }"
   ]
  },
  {
   "cell_type": "code",
   "execution_count": 8,
   "metadata": {},
   "outputs": [],
   "source": [
    "trainset, testset = train_test_split(datatrain, test_size=0.20)"
   ]
  },
  {
   "cell_type": "markdown",
   "metadata": {},
   "source": [
    "# Applying Baseline model"
   ]
  },
  {
   "cell_type": "code",
   "execution_count": 10,
   "metadata": {},
   "outputs": [
    {
     "name": "stdout",
     "output_type": "stream",
     "text": [
      "Estimating biases using als...\n"
     ]
    }
   ],
   "source": [
    "algo = BaselineOnly(bsl_options=bsl_options)\n",
    "predictions_baseline = algo.fit(trainset).test(testset)"
   ]
  },
  {
   "cell_type": "code",
   "execution_count": 11,
   "metadata": {},
   "outputs": [
    {
     "name": "stdout",
     "output_type": "stream",
     "text": [
      "RMSE: 1.0784\n"
     ]
    },
    {
     "data": {
      "text/plain": [
       "1.0783921571290171"
      ]
     },
     "execution_count": 11,
     "metadata": {},
     "output_type": "execute_result"
    }
   ],
   "source": [
    "accuracy.rmse(predictions_baseline)"
   ]
  },
  {
   "cell_type": "code",
   "execution_count": 12,
   "metadata": {},
   "outputs": [
    {
     "name": "stdout",
     "output_type": "stream",
     "text": [
      "Estimating biases using als...\n",
      "Estimating biases using als...\n",
      "Estimating biases using als...\n",
      "Estimating biases using als...\n",
      "Estimating biases using als...\n"
     ]
    },
    {
     "data": {
      "text/plain": [
       "{'test_rmse': array([1.07807282, 1.07992385, 1.07936042, 1.08211923, 1.07488463]),\n",
       " 'fit_time': (3.3609488010406494,\n",
       "  4.041473150253296,\n",
       "  3.828866720199585,\n",
       "  3.720921039581299,\n",
       "  3.829172134399414),\n",
       " 'test_time': (2.053523063659668,\n",
       "  1.9457309246063232,\n",
       "  1.8522000312805176,\n",
       "  2.399367094039917,\n",
       "  2.960556983947754)}"
      ]
     },
     "execution_count": 12,
     "metadata": {},
     "output_type": "execute_result"
    }
   ],
   "source": [
    "cross_validate(algo, datatrain, measures=['RMSE'], cv=5, verbose = False)"
   ]
  },
  {
   "cell_type": "code",
   "execution_count": 15,
   "metadata": {},
   "outputs": [
    {
     "data": {
      "text/plain": [
       "336980"
      ]
     },
     "execution_count": 15,
     "metadata": {},
     "output_type": "execute_result"
    }
   ],
   "source": [
    "len(dftest)"
   ]
  },
  {
   "cell_type": "code",
   "execution_count": 16,
   "metadata": {},
   "outputs": [],
   "source": [
    "ui = np.array(dftest['user_id'])\n",
    "utest = ui.tolist() \n",
    "\n",
    "bi = np.array(dftest['business_id'])\n",
    "btest = bi.tolist()"
   ]
  },
  {
   "cell_type": "code",
   "execution_count": 18,
   "metadata": {},
   "outputs": [],
   "source": [
    "#Predicting the ratings using Baseline model \n",
    "predbaseline = []\n",
    "\n",
    "for item in range(len(dftest)):\n",
    "    predbaseline.append(round(algo.predict(utest[item], btest[item])[3], 2)) #appending pred list "
   ]
  },
  {
   "cell_type": "code",
   "execution_count": 19,
   "metadata": {},
   "outputs": [
    {
     "data": {
      "text/plain": [
       "336980"
      ]
     },
     "execution_count": 19,
     "metadata": {},
     "output_type": "execute_result"
    }
   ],
   "source": [
    "len(predbaseline)"
   ]
  },
  {
   "cell_type": "markdown",
   "metadata": {},
   "source": [
    "# Applying SVD"
   ]
  },
  {
   "cell_type": "code",
   "execution_count": 23,
   "metadata": {},
   "outputs": [
    {
     "name": "stdout",
     "output_type": "stream",
     "text": [
      "Evaluating RMSE of algorithm SVD.\n",
      "\n",
      "------------\n",
      "Fold 1\n",
      "RMSE: 1.0880\n",
      "------------\n",
      "Fold 2\n",
      "RMSE: 1.0880\n",
      "------------\n",
      "Fold 3\n",
      "RMSE: 1.0876\n",
      "------------\n",
      "Fold 4\n",
      "RMSE: 1.0935\n",
      "------------\n",
      "Fold 5\n",
      "RMSE: 1.0888\n",
      "------------\n",
      "------------\n",
      "Mean RMSE: 1.0892\n",
      "------------\n",
      "------------\n"
     ]
    },
    {
     "data": {
      "text/plain": [
       "CaseInsensitiveDefaultDict(list,\n",
       "                           {'rmse': [1.087956748509602,\n",
       "                             1.0880179466707063,\n",
       "                             1.0875660672119771,\n",
       "                             1.093451337618312,\n",
       "                             1.0888466411462412]})"
      ]
     },
     "execution_count": 23,
     "metadata": {},
     "output_type": "execute_result"
    }
   ],
   "source": [
    "svd = SVD()\n",
    "evaluate(svd, datatrain, measures=['RMSE'])"
   ]
  },
  {
   "cell_type": "code",
   "execution_count": 24,
   "metadata": {},
   "outputs": [
    {
     "data": {
      "text/plain": [
       "<surprise.prediction_algorithms.matrix_factorization.SVD at 0x1746231d0>"
      ]
     },
     "execution_count": 24,
     "metadata": {},
     "output_type": "execute_result"
    }
   ],
   "source": [
    "svd.train(trainset)"
   ]
  },
  {
   "cell_type": "code",
   "execution_count": 25,
   "metadata": {},
   "outputs": [],
   "source": [
    "predictions_svd = svd.test(testset)"
   ]
  },
  {
   "cell_type": "code",
   "execution_count": 26,
   "metadata": {},
   "outputs": [
    {
     "name": "stdout",
     "output_type": "stream",
     "text": [
      "RMSE: 1.0885\n"
     ]
    },
    {
     "data": {
      "text/plain": [
       "1.0884932893244363"
      ]
     },
     "execution_count": 26,
     "metadata": {},
     "output_type": "execute_result"
    }
   ],
   "source": [
    "accuracy.rmse(predictions_svd, verbose=True)"
   ]
  },
  {
   "cell_type": "code",
   "execution_count": 27,
   "metadata": {},
   "outputs": [],
   "source": [
    "#Predicting the ratings using SVD model \n",
    "predsvd = []\n",
    "\n",
    "for item in range(len(dftest)):\n",
    "    predsvd.append(round(svd.predict(utest[item], btest[item])[3], 2)) #appending pred list "
   ]
  },
  {
   "cell_type": "markdown",
   "metadata": {},
   "source": [
    "# Applying SVDpp"
   ]
  },
  {
   "cell_type": "code",
   "execution_count": 30,
   "metadata": {},
   "outputs": [],
   "source": [
    "algosvdpp = SVDpp(n_factors=150,n_epochs=40)"
   ]
  },
  {
   "cell_type": "code",
   "execution_count": 31,
   "metadata": {},
   "outputs": [
    {
     "data": {
      "text/plain": [
       "<surprise.prediction_algorithms.matrix_factorization.SVDpp at 0x1510d7438>"
      ]
     },
     "execution_count": 31,
     "metadata": {},
     "output_type": "execute_result"
    }
   ],
   "source": [
    "algosvdpp.fit(trainset)"
   ]
  },
  {
   "cell_type": "code",
   "execution_count": 32,
   "metadata": {},
   "outputs": [],
   "source": [
    "predictions_svdpp = algosvdpp.test(testset)"
   ]
  },
  {
   "cell_type": "code",
   "execution_count": 33,
   "metadata": {},
   "outputs": [
    {
     "name": "stdout",
     "output_type": "stream",
     "text": [
      "RMSE: 1.1172\n"
     ]
    },
    {
     "data": {
      "text/plain": [
       "1.1171530768175075"
      ]
     },
     "execution_count": 33,
     "metadata": {},
     "output_type": "execute_result"
    }
   ],
   "source": [
    "accuracy.rmse(predictions_svdpp, verbose=True)"
   ]
  },
  {
   "cell_type": "code",
   "execution_count": 34,
   "metadata": {},
   "outputs": [],
   "source": [
    "predsvdpp = []\n",
    "\n",
    "for item in range(len(dftest)):\n",
    "    predsvdpp.append(round(algosvdpp.predict(utest[item], btest[item])[3], 2)) #appending pred list "
   ]
  },
  {
   "cell_type": "code",
   "execution_count": null,
   "metadata": {},
   "outputs": [],
   "source": []
  },
  {
   "cell_type": "code",
   "execution_count": 38,
   "metadata": {},
   "outputs": [],
   "source": [
    "#Saving the stars in csv file\n",
    "with open('baseline.csv','w') as filehandle:\n",
    "    for listitem in predbaseline:\n",
    "        filehandle.write('%0.2f\\n' % listitem)"
   ]
  },
  {
   "cell_type": "code",
   "execution_count": 39,
   "metadata": {},
   "outputs": [],
   "source": [
    "with open('svd.csv','w') as filehandle:\n",
    "    for listitem in predsvd:\n",
    "        filehandle.write('%0.2f\\n' % listitem)"
   ]
  },
  {
   "cell_type": "code",
   "execution_count": 40,
   "metadata": {},
   "outputs": [],
   "source": [
    "with open('svdpp.csv','w') as filehandle:\n",
    "    for listitem in predsvdpp:\n",
    "        filehandle.write('%0.2f\\n' % listitem)"
   ]
  },
  {
   "cell_type": "code",
   "execution_count": null,
   "metadata": {},
   "outputs": [],
   "source": []
  }
 ],
 "metadata": {
  "kernelspec": {
   "display_name": "Python 3",
   "language": "python",
   "name": "python3"
  },
  "language_info": {
   "codemirror_mode": {
    "name": "ipython",
    "version": 3
   },
   "file_extension": ".py",
   "mimetype": "text/x-python",
   "name": "python",
   "nbconvert_exporter": "python",
   "pygments_lexer": "ipython3",
   "version": "3.6.5"
  }
 },
 "nbformat": 4,
 "nbformat_minor": 2
}
