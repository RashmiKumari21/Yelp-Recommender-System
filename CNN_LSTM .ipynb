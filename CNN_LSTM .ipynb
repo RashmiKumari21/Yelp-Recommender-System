{
 "cells": [
  {
   "cell_type": "code",
   "execution_count": 1,
   "metadata": {},
   "outputs": [
    {
     "name": "stderr",
     "output_type": "stream",
     "text": [
      "C:\\Users\\rashm\\Anaconda3\\lib\\site-packages\\h5py\\__init__.py:36: FutureWarning: Conversion of the second argument of issubdtype from `float` to `np.floating` is deprecated. In future, it will be treated as `np.float64 == np.dtype(float).type`.\n",
      "  from ._conv import register_converters as _register_converters\n",
      "Using TensorFlow backend.\n"
     ]
    }
   ],
   "source": [
    "from keras.models import Sequential\n",
    "from keras.layers import Embedding, LSTM, Dense, Conv1D, MaxPooling1D, Dropout, Activation\n",
    "from keras.preprocessing.sequence import pad_sequences\n",
    "from keras.preprocessing.text import Tokenizer\n",
    "\n",
    "\n",
    "from sklearn.model_selection import train_test_split\n",
    "from sklearn.metrics import confusion_matrix\n",
    "\n",
    "\n",
    "import numpy as np\n",
    "import pandas as pd\n",
    "import matplotlib.pyplot as plt \n",
    "import seaborn as sns\n"
   ]
  },
  {
   "cell_type": "code",
   "execution_count": 2,
   "metadata": {},
   "outputs": [
    {
     "name": "stdout",
     "output_type": "stream",
     "text": [
      "              business_id                 date               review_id  \\\n",
      "0  HMSDOjt_KCyknzjQ9aI5Jw  2018-11-04 23:44:27  0HWPTEnVT7L5BCKj33erLQ   \n",
      "1  yXiDD18UV49-7UhA6dWjAw  2018-09-07 20:41:42  Y6xCQlzc9YTXD3IKMGN-oQ   \n",
      "2  VSNUFYBQ_wOFmRXZ8SeQ4w  2015-09-30 02:07:55  9j_uLXkEgpN52Lz5VJ8sMQ   \n",
      "3  lVVJMvqu4LXL5rBqjO6eqg  2015-05-30 07:40:17  xilO0UqpI_EYJg0nzTBqzw   \n",
      "4  EEIz44ewHhOKmfTloAK13g  2017-11-19 16:47:26  P5LDWTH6cxQK-_IWtvyOWw   \n",
      "5  Huo1lJmVkdqvFuLtA74Nhw  2016-06-28 21:42:10  Jp2QuT-Y0Ms9yNa3Rxch8w   \n",
      "6  rntKF4Dm9JIJoSNi5XqRsQ  2018-02-22 18:45:25  cSHx_MPeFhPSyV7Oo4QjlQ   \n",
      "7  jDQIKfsfJU3M8M6n0ESKFg  2018-01-16 00:20:06  i2V-3CJ_a4AMoK5kpWxqVA   \n",
      "8  qfr7bHu1-VXUTQWXoSMf9g  2011-07-12 14:02:51  gPWOw5SDDzlwVKQfBnF01g   \n",
      "9  iCQpiavjjPzJ5_3gPD5Ebg  2014-11-05 03:24:39  4O0bln3RzKv4awQ5p6-p9w   \n",
      "\n",
      "                                                text                 user_id  \\\n",
      "0  I would like to start with the classic line \"I...  iGtInQDTZ89mKnkhFWdlfA   \n",
      "1  We come here for once at least once a month. I...  O3cItff0mKAfXtl5VmbW2w   \n",
      "2  First meal in Pittsburgh was courtesy of S&D! ...  U5YQX_vMl_xQy8EQDqlNQQ   \n",
      "3  The Pork bone soup is delicious! The broth loo...  JrgMipJRhagq42ROTzC_CQ   \n",
      "4  Words cannot express how delectably divine a d...  8lofUN7rFkwT2bw4b5SM4g   \n",
      "5  The grilled squid with salad was good, althoug...  EdDmKiz6V89g6Dws9I4AKA   \n",
      "6  One of my favourite dumpling spots. My go to o...  hxG4HPCLce9wbt5FAi4IHw   \n",
      "7  Idk maybe it was all the rants and raves about...  I_hZOak13ydnfXV1nJPDTg   \n",
      "8  I am actually pretty shocked by all of the 5 s...  7M1zIE6OzpySDlqLU6MnEg   \n",
      "9  I've been here twice, one time where the line ...  bW6VMyB5r05Yze44Ora0pA   \n",
      "\n",
      "                                          attributes           city  \\\n",
      "0  {'OutdoorSeating': 'True', 'RestaurantsGoodFor...      Las Vegas   \n",
      "1  {'GoodForMeal': \"{'dessert': False, 'latenight...      Charlotte   \n",
      "2  {'Alcohol': \"u'none'\", 'DogsAllowed': 'False',...     Pittsburgh   \n",
      "3  {'HasTV': 'False', 'WiFi': \"u'no'\", 'BusinessP...        Toronto   \n",
      "4  {'RestaurantsPriceRange2': '4', 'RestaurantsTa...        Toronto   \n",
      "5  {'HasTV': 'True', 'RestaurantsGoodForGroups': ...        Toronto   \n",
      "6  {'RestaurantsDelivery': 'False', 'BusinessPark...  Richmond Hill   \n",
      "7  {'RestaurantsPriceRange2': '1', 'GoodForKids':...           Mesa   \n",
      "8  {'OutdoorSeating': 'False', 'RestaurantsPriceR...        Phoenix   \n",
      "9  {'RestaurantsPriceRange2': '1', 'BikeParking':...      Las Vegas   \n",
      "\n",
      "                                          categories  avg_business_stars  \\\n",
      "0              Noodles, Restaurants, Japanese, Ramen                 4.0   \n",
      "1  Sandwiches, Pizza, Italian, Restaurants, Event...                 4.0   \n",
      "2  Polish, Ethnic Food, Specialty Food, Food, Res...                 4.5   \n",
      "3                                Restaurants, Korean                 4.5   \n",
      "4               Bars, Nightlife, Restaurants, French                 4.5   \n",
      "5                        Italian, Restaurants, Pizza                 4.0   \n",
      "6                               Restaurants, Chinese                 3.5   \n",
      "7  Restaurants, Desserts, Venues & Event Spaces, ...                 3.5   \n",
      "8  Party & Event Planning, Arts & Entertainment, ...                 2.5   \n",
      "9                                 Pizza, Restaurants                 4.0   \n",
      "\n",
      "   avg_user_star  stars  \n",
      "0           3.04    1.0  \n",
      "1           4.15    4.0  \n",
      "2           3.48    4.0  \n",
      "3           2.53    4.0  \n",
      "4           3.97    5.0  \n",
      "5           3.80    3.0  \n",
      "6           3.41    4.0  \n",
      "7           3.50    2.0  \n",
      "8           4.47    2.0  \n",
      "9           3.68    5.0  \n"
     ]
    }
   ],
   "source": [
    "dataset=pd.read_csv('yelp_restaurant_train.csv')\n",
    "\n",
    "print (dataset.head(10))"
   ]
  },
  {
   "cell_type": "code",
   "execution_count": 3,
   "metadata": {},
   "outputs": [
    {
     "data": {
      "text/plain": [
       "business_id            object\n",
       "date                   object\n",
       "review_id              object\n",
       "text                   object\n",
       "user_id                object\n",
       "attributes             object\n",
       "city                   object\n",
       "categories             object\n",
       "avg_business_stars    float64\n",
       "avg_user_star         float64\n",
       "stars                 float64\n",
       "dtype: object"
      ]
     },
     "execution_count": 3,
     "metadata": {},
     "output_type": "execute_result"
    }
   ],
   "source": [
    "dataset.dtypes"
   ]
  },
  {
   "cell_type": "code",
   "execution_count": 4,
   "metadata": {},
   "outputs": [
    {
     "data": {
      "text/html": [
       "<div>\n",
       "<style scoped>\n",
       "    .dataframe tbody tr th:only-of-type {\n",
       "        vertical-align: middle;\n",
       "    }\n",
       "\n",
       "    .dataframe tbody tr th {\n",
       "        vertical-align: top;\n",
       "    }\n",
       "\n",
       "    .dataframe thead th {\n",
       "        text-align: right;\n",
       "    }\n",
       "</style>\n",
       "<table border=\"1\" class=\"dataframe\">\n",
       "  <thead>\n",
       "    <tr style=\"text-align: right;\">\n",
       "      <th></th>\n",
       "      <th>date</th>\n",
       "      <th>text</th>\n",
       "      <th>user_id</th>\n",
       "    </tr>\n",
       "  </thead>\n",
       "  <tbody>\n",
       "    <tr>\n",
       "      <th>0</th>\n",
       "      <td>2018-11-04 23:44:27</td>\n",
       "      <td>I would like to start with the classic line \"I...</td>\n",
       "      <td>iGtInQDTZ89mKnkhFWdlfA</td>\n",
       "    </tr>\n",
       "    <tr>\n",
       "      <th>1</th>\n",
       "      <td>2018-09-07 20:41:42</td>\n",
       "      <td>We come here for once at least once a month. I...</td>\n",
       "      <td>O3cItff0mKAfXtl5VmbW2w</td>\n",
       "    </tr>\n",
       "    <tr>\n",
       "      <th>2</th>\n",
       "      <td>2015-09-30 02:07:55</td>\n",
       "      <td>First meal in Pittsburgh was courtesy of S&amp;D! ...</td>\n",
       "      <td>U5YQX_vMl_xQy8EQDqlNQQ</td>\n",
       "    </tr>\n",
       "    <tr>\n",
       "      <th>3</th>\n",
       "      <td>2015-05-30 07:40:17</td>\n",
       "      <td>The Pork bone soup is delicious! The broth loo...</td>\n",
       "      <td>JrgMipJRhagq42ROTzC_CQ</td>\n",
       "    </tr>\n",
       "    <tr>\n",
       "      <th>4</th>\n",
       "      <td>2017-11-19 16:47:26</td>\n",
       "      <td>Words cannot express how delectably divine a d...</td>\n",
       "      <td>8lofUN7rFkwT2bw4b5SM4g</td>\n",
       "    </tr>\n",
       "  </tbody>\n",
       "</table>\n",
       "</div>"
      ],
      "text/plain": [
       "                  date                                               text  \\\n",
       "0  2018-11-04 23:44:27  I would like to start with the classic line \"I...   \n",
       "1  2018-09-07 20:41:42  We come here for once at least once a month. I...   \n",
       "2  2015-09-30 02:07:55  First meal in Pittsburgh was courtesy of S&D! ...   \n",
       "3  2015-05-30 07:40:17  The Pork bone soup is delicious! The broth loo...   \n",
       "4  2017-11-19 16:47:26  Words cannot express how delectably divine a d...   \n",
       "\n",
       "                  user_id  \n",
       "0  iGtInQDTZ89mKnkhFWdlfA  \n",
       "1  O3cItff0mKAfXtl5VmbW2w  \n",
       "2  U5YQX_vMl_xQy8EQDqlNQQ  \n",
       "3  JrgMipJRhagq42ROTzC_CQ  \n",
       "4  8lofUN7rFkwT2bw4b5SM4g  "
      ]
     },
     "execution_count": 4,
     "metadata": {},
     "output_type": "execute_result"
    }
   ],
   "source": [
    "textContentRev = pd.read_csv(\"yelp_restaurant_train.csv\")\n",
    "\n",
    "textContentRev.drop([\"review_id\", \"city\",\"categories\",\"avg_user_star\",\"attributes\",\"business_id\",\"avg_business_stars\",\"stars\"], axis = 1, inplace = True)\n",
    "\n",
    "revdf = pd.DataFrame(textContentRev)\n",
    "\n",
    "revdf.head(5)\n"
   ]
  },
  {
   "cell_type": "code",
   "execution_count": 5,
   "metadata": {},
   "outputs": [
    {
     "data": {
      "text/html": [
       "<div>\n",
       "<style scoped>\n",
       "    .dataframe tbody tr th:only-of-type {\n",
       "        vertical-align: middle;\n",
       "    }\n",
       "\n",
       "    .dataframe tbody tr th {\n",
       "        vertical-align: top;\n",
       "    }\n",
       "\n",
       "    .dataframe thead th {\n",
       "        text-align: right;\n",
       "    }\n",
       "</style>\n",
       "<table border=\"1\" class=\"dataframe\">\n",
       "  <thead>\n",
       "    <tr style=\"text-align: right;\">\n",
       "      <th></th>\n",
       "      <th>business_id</th>\n",
       "      <th>date</th>\n",
       "      <th>user_id</th>\n",
       "      <th>avg_business_stars</th>\n",
       "      <th>stars</th>\n",
       "    </tr>\n",
       "  </thead>\n",
       "  <tbody>\n",
       "    <tr>\n",
       "      <th>0</th>\n",
       "      <td>HMSDOjt_KCyknzjQ9aI5Jw</td>\n",
       "      <td>2018-11-04 23:44:27</td>\n",
       "      <td>iGtInQDTZ89mKnkhFWdlfA</td>\n",
       "      <td>4.0</td>\n",
       "      <td>-1</td>\n",
       "    </tr>\n",
       "    <tr>\n",
       "      <th>1</th>\n",
       "      <td>yXiDD18UV49-7UhA6dWjAw</td>\n",
       "      <td>2018-09-07 20:41:42</td>\n",
       "      <td>O3cItff0mKAfXtl5VmbW2w</td>\n",
       "      <td>4.0</td>\n",
       "      <td>1</td>\n",
       "    </tr>\n",
       "    <tr>\n",
       "      <th>2</th>\n",
       "      <td>VSNUFYBQ_wOFmRXZ8SeQ4w</td>\n",
       "      <td>2015-09-30 02:07:55</td>\n",
       "      <td>U5YQX_vMl_xQy8EQDqlNQQ</td>\n",
       "      <td>4.5</td>\n",
       "      <td>1</td>\n",
       "    </tr>\n",
       "    <tr>\n",
       "      <th>3</th>\n",
       "      <td>lVVJMvqu4LXL5rBqjO6eqg</td>\n",
       "      <td>2015-05-30 07:40:17</td>\n",
       "      <td>JrgMipJRhagq42ROTzC_CQ</td>\n",
       "      <td>4.5</td>\n",
       "      <td>1</td>\n",
       "    </tr>\n",
       "    <tr>\n",
       "      <th>4</th>\n",
       "      <td>EEIz44ewHhOKmfTloAK13g</td>\n",
       "      <td>2017-11-19 16:47:26</td>\n",
       "      <td>8lofUN7rFkwT2bw4b5SM4g</td>\n",
       "      <td>4.5</td>\n",
       "      <td>1</td>\n",
       "    </tr>\n",
       "  </tbody>\n",
       "</table>\n",
       "</div>"
      ],
      "text/plain": [
       "              business_id                 date                 user_id  \\\n",
       "0  HMSDOjt_KCyknzjQ9aI5Jw  2018-11-04 23:44:27  iGtInQDTZ89mKnkhFWdlfA   \n",
       "1  yXiDD18UV49-7UhA6dWjAw  2018-09-07 20:41:42  O3cItff0mKAfXtl5VmbW2w   \n",
       "2  VSNUFYBQ_wOFmRXZ8SeQ4w  2015-09-30 02:07:55  U5YQX_vMl_xQy8EQDqlNQQ   \n",
       "3  lVVJMvqu4LXL5rBqjO6eqg  2015-05-30 07:40:17  JrgMipJRhagq42ROTzC_CQ   \n",
       "4  EEIz44ewHhOKmfTloAK13g  2017-11-19 16:47:26  8lofUN7rFkwT2bw4b5SM4g   \n",
       "\n",
       "   avg_business_stars  stars  \n",
       "0                 4.0     -1  \n",
       "1                 4.0      1  \n",
       "2                 4.5      1  \n",
       "3                 4.5      1  \n",
       "4                 4.5      1  "
      ]
     },
     "execution_count": 5,
     "metadata": {},
     "output_type": "execute_result"
    }
   ],
   "source": [
    "temptable= pd.read_csv(\"yelp_restaurant_train.csv\")\n",
    "temptable.drop([\"review_id\", \"city\",\"categories\",\"avg_user_star\",\"attributes\",\"text\"], axis = 1, inplace = True)\n",
    "\n",
    "\n",
    "temptable.loc[temptable['stars'] < 3, 'stars'] = -1\n",
    "temptable.loc[temptable['stars'] > 3, 'stars'] = 1\n",
    "temptable.loc[temptable['stars'] == 3, 'stars'] = 1\n",
    "\n",
    "temptable.stars = temptable.stars.astype(int)\n",
    "temptabledf = pd.DataFrame(temptable)\n",
    "\n",
    "temptabledf.head(5)\n",
    "\n"
   ]
  },
  {
   "cell_type": "code",
   "execution_count": 6,
   "metadata": {},
   "outputs": [],
   "source": [
    "merger = pd.concat([revdf,temptabledf],axis=1,join=\"inner\")#, join_axes=[df_reviewGraph.user_id])\n",
    "merger = merger.dropna()"
   ]
  },
  {
   "cell_type": "code",
   "execution_count": 7,
   "metadata": {},
   "outputs": [
    {
     "data": {
      "text/html": [
       "<div>\n",
       "<style scoped>\n",
       "    .dataframe tbody tr th:only-of-type {\n",
       "        vertical-align: middle;\n",
       "    }\n",
       "\n",
       "    .dataframe tbody tr th {\n",
       "        vertical-align: top;\n",
       "    }\n",
       "\n",
       "    .dataframe thead th {\n",
       "        text-align: right;\n",
       "    }\n",
       "</style>\n",
       "<table border=\"1\" class=\"dataframe\">\n",
       "  <thead>\n",
       "    <tr style=\"text-align: right;\">\n",
       "      <th></th>\n",
       "      <th>stars</th>\n",
       "      <th>text</th>\n",
       "    </tr>\n",
       "  </thead>\n",
       "  <tbody>\n",
       "    <tr>\n",
       "      <th>0</th>\n",
       "      <td>-1</td>\n",
       "      <td>I would like to start with the classic line \"I...</td>\n",
       "    </tr>\n",
       "    <tr>\n",
       "      <th>1</th>\n",
       "      <td>1</td>\n",
       "      <td>We come here for once at least once a month. I...</td>\n",
       "    </tr>\n",
       "    <tr>\n",
       "      <th>2</th>\n",
       "      <td>1</td>\n",
       "      <td>First meal in Pittsburgh was courtesy of S&amp;D! ...</td>\n",
       "    </tr>\n",
       "    <tr>\n",
       "      <th>3</th>\n",
       "      <td>1</td>\n",
       "      <td>The Pork bone soup is delicious! The broth loo...</td>\n",
       "    </tr>\n",
       "    <tr>\n",
       "      <th>4</th>\n",
       "      <td>1</td>\n",
       "      <td>Words cannot express how delectably divine a d...</td>\n",
       "    </tr>\n",
       "  </tbody>\n",
       "</table>\n",
       "</div>"
      ],
      "text/plain": [
       "   stars                                               text\n",
       "0     -1  I would like to start with the classic line \"I...\n",
       "1      1  We come here for once at least once a month. I...\n",
       "2      1  First meal in Pittsburgh was courtesy of S&D! ...\n",
       "3      1  The Pork bone soup is delicious! The broth loo...\n",
       "4      1  Words cannot express how delectably divine a d..."
      ]
     },
     "execution_count": 7,
     "metadata": {},
     "output_type": "execute_result"
    }
   ],
   "source": [
    "newDS = merger[[\"stars\",\"text\"]] # add date later\n",
    "newDS.head()"
   ]
  },
  {
   "cell_type": "code",
   "execution_count": 8,
   "metadata": {},
   "outputs": [],
   "source": [
    "#Make duplicates of negative samples to balance the data set\n",
    "newDS1 = pd.concat([newDS[newDS[\"stars\"]==-1],newDS],axis=0)\n",
    "newDS2 = pd.concat([newDS[newDS[\"stars\"]==-1],newDS1],axis=0)\n",
    "newDS3 = pd.concat([newDS[newDS[\"stars\"]==-1],newDS2],axis=0)\n",
    "\n",
    "\n",
    "OverSampledDS = pd.concat([newDS[newDS[\"stars\"]==-1],newDS3],axis=0) "
   ]
  },
  {
   "cell_type": "code",
   "execution_count": 9,
   "metadata": {},
   "outputs": [],
   "source": [
    "texts_Consider = []\n",
    "labels_Consider = []\n",
    "\n",
    "for i in range(len(OverSampledDS)):\n",
    "    texts_Consider.append(OverSampledDS.iloc[i,1])\n",
    "    labels_Consider.append(OverSampledDS.iloc[i,0])"
   ]
  },
  {
   "cell_type": "code",
   "execution_count": 10,
   "metadata": {},
   "outputs": [],
   "source": [
    "tokenizer = Tokenizer(num_words=30000)\n",
    "tokenizer.fit_on_texts(texts_Consider)\n",
    "sequences = tokenizer.texts_to_sequences(texts_Consider)\n",
    "data = pad_sequences(sequences, maxlen=600)"
   ]
  },
  {
   "cell_type": "code",
   "execution_count": 11,
   "metadata": {},
   "outputs": [],
   "source": [
    "\n",
    "model = Sequential()\n",
    "model.add(Dropout(0.2))\n",
    "model.add(Embedding(20000, 128, input_length=500))#20000 300\n",
    "model.add(MaxPooling1D(pool_size=4))\n",
    "model.add(Conv1D(64, 5, activation='relu'))\n",
    "model.add(Dense(1, activation='sigmoid'))\n",
    "model.add(LSTM(128))\n",
    "model.compile(loss='binary_crossentropy', optimizer='adam', metrics=['accuracy'])"
   ]
  },
  {
   "cell_type": "code",
   "execution_count": 12,
   "metadata": {},
   "outputs": [],
   "source": [
    "X_train, X_test, y_train, y_test = train_test_split(data, np.array(labels_Consider), test_size=0.3)"
   ]
  },
  {
   "cell_type": "code",
   "execution_count": 13,
   "metadata": {},
   "outputs": [
    {
     "name": "stdout",
     "output_type": "stream",
     "text": [
      "Train on 646999 samples, validate on 431333 samples\n",
      "Epoch 1/1\n",
      "646999/646999 [==============================] - 28425s 44ms/step - loss: -1.1044 - acc: 0.7725 - val_loss: -1.3196 - val_acc: 0.7829\n"
     ]
    },
    {
     "data": {
      "text/plain": [
       "<keras.callbacks.History at 0x1df2bb83e10>"
      ]
     },
     "execution_count": 13,
     "metadata": {},
     "output_type": "execute_result"
    }
   ],
   "source": [
    "model.fit(data, np.array(labels_Consider), validation_split=0.4, batch_size=200, epochs=1)\n"
   ]
  },
  {
   "cell_type": "code",
   "execution_count": 29,
   "metadata": {},
   "outputs": [],
   "source": [
    "from sklearn.preprocessing import binarize\n",
    "\n",
    "p = model.predict(X_test)\n",
    "\n",
    "type_p = binarize(model_pred,threshold=0.5)"
   ]
  },
  {
   "cell_type": "code",
   "execution_count": 30,
   "metadata": {},
   "outputs": [],
   "source": [
    "for i in range(len(class_pred)):\n",
    "    if type_p[i] == 0:\n",
    "        \n",
    "        type_p[i] = -1"
   ]
  },
  {
   "cell_type": "code",
   "execution_count": 32,
   "metadata": {},
   "outputs": [
    {
     "name": "stdout",
     "output_type": "stream",
     "text": [
      "Confusion Matrix for CNN: \n"
     ]
    },
    {
     "data": {
      "text/plain": [
       "array([[ 44768,   6943],\n",
       "       [ 17896, 253893]], dtype=int64)"
      ]
     },
     "execution_count": 32,
     "metadata": {},
     "output_type": "execute_result"
    }
   ],
   "source": [
    "print(\"Confusion Matrix for CNN: \")\n",
    "confusion_matrix(y_test,type_p)"
   ]
  },
  {
   "cell_type": "code",
   "execution_count": null,
   "metadata": {},
   "outputs": [],
   "source": []
  }
 ],
 "metadata": {
  "kernelspec": {
   "display_name": "Python 3",
   "language": "python",
   "name": "python3"
  },
  "language_info": {
   "codemirror_mode": {
    "name": "ipython",
    "version": 3
   },
   "file_extension": ".py",
   "mimetype": "text/x-python",
   "name": "python",
   "nbconvert_exporter": "python",
   "pygments_lexer": "ipython3",
   "version": "3.6.5"
  }
 },
 "nbformat": 4,
 "nbformat_minor": 2
}
