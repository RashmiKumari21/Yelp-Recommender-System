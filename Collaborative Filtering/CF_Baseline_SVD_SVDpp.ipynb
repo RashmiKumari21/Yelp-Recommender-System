{
 "cells": [
  {
   "cell_type": "code",
   "execution_count": 1,
   "metadata": {},
   "outputs": [],
   "source": [
    "from surprise.model_selection import cross_validate\n",
    "import pandas as pd\n",
    "import numpy as np\n",
    "import os, io\n",
    "from surprise import SVD\n",
    "from surprise import accuracy\n",
    "from surprise import Reader, Dataset, SVD, evaluate\n",
    "from surprise import SVDpp\n",
    "from surprise import BaselineOnly\n",
    "\n",
    "from surprise.model_selection import train_test_split\n",
    "\n",
    "import warnings\n",
    "warnings.filterwarnings(\"ignore\")"
   ]
  },
  {
   "cell_type": "code",
   "execution_count": 2,
   "metadata": {},
   "outputs": [],
   "source": [
    "#Reading training and testing dataset\n",
    "dftrain = pd.read_csv('yelp_restaurant_train.csv')\n",
    "dftest = pd.read_csv('yelp_restaurant_test.csv')"
   ]
  },
  {
   "cell_type": "code",
   "execution_count": 3,
   "metadata": {},
   "outputs": [],
   "source": [
    "reader = Reader()\n",
    "datatrain = Dataset.load_from_df(dftrain[['user_id', 'business_id', 'stars']], reader)"
   ]
  },
  {
   "cell_type": "code",
   "execution_count": 72,
   "metadata": {},
   "outputs": [
    {
     "data": {
      "text/html": [
       "<div>\n",
       "<style scoped>\n",
       "    .dataframe tbody tr th:only-of-type {\n",
       "        vertical-align: middle;\n",
       "    }\n",
       "\n",
       "    .dataframe tbody tr th {\n",
       "        vertical-align: top;\n",
       "    }\n",
       "\n",
       "    .dataframe thead th {\n",
       "        text-align: right;\n",
       "    }\n",
       "</style>\n",
       "<table border=\"1\" class=\"dataframe\">\n",
       "  <thead>\n",
       "    <tr style=\"text-align: right;\">\n",
       "      <th></th>\n",
       "      <th>business_id</th>\n",
       "      <th>date</th>\n",
       "      <th>review_id</th>\n",
       "      <th>text</th>\n",
       "      <th>user_id</th>\n",
       "      <th>attributes</th>\n",
       "      <th>name</th>\n",
       "      <th>city</th>\n",
       "      <th>categories</th>\n",
       "      <th>avg_business_stars</th>\n",
       "      <th>avg_user_star</th>\n",
       "      <th>stars</th>\n",
       "    </tr>\n",
       "  </thead>\n",
       "  <tbody>\n",
       "    <tr>\n",
       "      <th>0</th>\n",
       "      <td>fF6a_EDp0-P5Ve9Kp4WgfA</td>\n",
       "      <td>2016-08-14 01:51:06</td>\n",
       "      <td>0y8_GWd4oNpunpVEKf9R1A</td>\n",
       "      <td>The Food Good it depends on what you like comp...</td>\n",
       "      <td>vrC1d_ClcnkMqcZ7Tzsqmg</td>\n",
       "      <td>{'WiFi': \"'no'\", 'RestaurantsTakeOut': 'True',...</td>\n",
       "      <td>Dragon Buffet</td>\n",
       "      <td>Medina</td>\n",
       "      <td>Restaurants, Buffets</td>\n",
       "      <td>3.5</td>\n",
       "      <td>2.63</td>\n",
       "      <td>5.0</td>\n",
       "    </tr>\n",
       "    <tr>\n",
       "      <th>1</th>\n",
       "      <td>QnCBkwWiu19YPNnSDyF6eA</td>\n",
       "      <td>2017-10-31 15:24:01</td>\n",
       "      <td>eoEGtsGLRtlnokIWqzdtfg</td>\n",
       "      <td>I use to think that the Korean Restaurant had ...</td>\n",
       "      <td>zDKszv6zpuLsVhPFZLctXQ</td>\n",
       "      <td>{'Caters': 'False', 'BusinessParking': \"{'gara...</td>\n",
       "      <td>Super G Mart</td>\n",
       "      <td>Charlotte</td>\n",
       "      <td>Seafood Markets, Ethnic Food, Grocery, Food, S...</td>\n",
       "      <td>4.0</td>\n",
       "      <td>3.44</td>\n",
       "      <td>3.0</td>\n",
       "    </tr>\n",
       "    <tr>\n",
       "      <th>2</th>\n",
       "      <td>Q5olb1x6FGk2oLAlc9p5Lg</td>\n",
       "      <td>2017-01-21 19:18:20</td>\n",
       "      <td>0lsWHNDo-n4vP-T89mLVAA</td>\n",
       "      <td>We used yelp to find someplace for tonight and...</td>\n",
       "      <td>fe7cNj_ySXNEnpTcsNhnUA</td>\n",
       "      <td>{'BikeParking': 'True', 'Caters': 'False', 'Bu...</td>\n",
       "      <td>Bonefish Grill</td>\n",
       "      <td>Las Vegas</td>\n",
       "      <td>Seafood, Restaurants, Nightlife, American (New...</td>\n",
       "      <td>3.5</td>\n",
       "      <td>4.66</td>\n",
       "      <td>5.0</td>\n",
       "    </tr>\n",
       "    <tr>\n",
       "      <th>3</th>\n",
       "      <td>UkFMV7WGFfE_u8zyUkkuqg</td>\n",
       "      <td>2015-08-15 18:14:16</td>\n",
       "      <td>Z8wiunFnj9SbtlVGhbeBmg</td>\n",
       "      <td>Went here with my son busy place I knew it had...</td>\n",
       "      <td>M2ywRTY1UYTiJEDp2x14yQ</td>\n",
       "      <td>{'RestaurantsPriceRange2': '1', 'BusinessParki...</td>\n",
       "      <td>La Flor de Michoacan</td>\n",
       "      <td>Las Vegas</td>\n",
       "      <td>Ice Cream &amp; Frozen Yogurt, Juice Bars &amp; Smooth...</td>\n",
       "      <td>4.0</td>\n",
       "      <td>3.31</td>\n",
       "      <td>4.0</td>\n",
       "    </tr>\n",
       "    <tr>\n",
       "      <th>4</th>\n",
       "      <td>GdnLAgRXt43eISMtJEOZRg</td>\n",
       "      <td>2013-05-31 04:00:37</td>\n",
       "      <td>wHr1eE2WAiFsTijXX0F0kw</td>\n",
       "      <td>I was excited to try this place out and then Y...</td>\n",
       "      <td>BS3qOK1iRLcWtoV9KnwyXg</td>\n",
       "      <td>{'HasTV': 'True', 'RestaurantsReservations': '...</td>\n",
       "      <td>Sushi Express</td>\n",
       "      <td>Madison</td>\n",
       "      <td>Restaurants, Japanese, Sushi Bars</td>\n",
       "      <td>4.0</td>\n",
       "      <td>3.07</td>\n",
       "      <td>4.0</td>\n",
       "    </tr>\n",
       "  </tbody>\n",
       "</table>\n",
       "</div>"
      ],
      "text/plain": [
       "              business_id                 date               review_id  \\\n",
       "0  fF6a_EDp0-P5Ve9Kp4WgfA  2016-08-14 01:51:06  0y8_GWd4oNpunpVEKf9R1A   \n",
       "1  QnCBkwWiu19YPNnSDyF6eA  2017-10-31 15:24:01  eoEGtsGLRtlnokIWqzdtfg   \n",
       "2  Q5olb1x6FGk2oLAlc9p5Lg  2017-01-21 19:18:20  0lsWHNDo-n4vP-T89mLVAA   \n",
       "3  UkFMV7WGFfE_u8zyUkkuqg  2015-08-15 18:14:16  Z8wiunFnj9SbtlVGhbeBmg   \n",
       "4  GdnLAgRXt43eISMtJEOZRg  2013-05-31 04:00:37  wHr1eE2WAiFsTijXX0F0kw   \n",
       "\n",
       "                                                text                 user_id  \\\n",
       "0  The Food Good it depends on what you like comp...  vrC1d_ClcnkMqcZ7Tzsqmg   \n",
       "1  I use to think that the Korean Restaurant had ...  zDKszv6zpuLsVhPFZLctXQ   \n",
       "2  We used yelp to find someplace for tonight and...  fe7cNj_ySXNEnpTcsNhnUA   \n",
       "3  Went here with my son busy place I knew it had...  M2ywRTY1UYTiJEDp2x14yQ   \n",
       "4  I was excited to try this place out and then Y...  BS3qOK1iRLcWtoV9KnwyXg   \n",
       "\n",
       "                                          attributes                  name  \\\n",
       "0  {'WiFi': \"'no'\", 'RestaurantsTakeOut': 'True',...         Dragon Buffet   \n",
       "1  {'Caters': 'False', 'BusinessParking': \"{'gara...          Super G Mart   \n",
       "2  {'BikeParking': 'True', 'Caters': 'False', 'Bu...        Bonefish Grill   \n",
       "3  {'RestaurantsPriceRange2': '1', 'BusinessParki...  La Flor de Michoacan   \n",
       "4  {'HasTV': 'True', 'RestaurantsReservations': '...         Sushi Express   \n",
       "\n",
       "        city                                         categories  \\\n",
       "0     Medina                               Restaurants, Buffets   \n",
       "1  Charlotte  Seafood Markets, Ethnic Food, Grocery, Food, S...   \n",
       "2  Las Vegas  Seafood, Restaurants, Nightlife, American (New...   \n",
       "3  Las Vegas  Ice Cream & Frozen Yogurt, Juice Bars & Smooth...   \n",
       "4    Madison                  Restaurants, Japanese, Sushi Bars   \n",
       "\n",
       "   avg_business_stars  avg_user_star  stars  \n",
       "0                 3.5           2.63    5.0  \n",
       "1                 4.0           3.44    3.0  \n",
       "2                 3.5           4.66    5.0  \n",
       "3                 4.0           3.31    4.0  \n",
       "4                 4.0           3.07    4.0  "
      ]
     },
     "execution_count": 72,
     "metadata": {},
     "output_type": "execute_result"
    }
   ],
   "source": [
    "dftest.head(5)"
   ]
  },
  {
   "cell_type": "code",
   "execution_count": 5,
   "metadata": {},
   "outputs": [],
   "source": [
    "bsl_options = {'method': 'als',\n",
    "               'n_epochs': 7, \n",
    "               'reg_u': 3, \n",
    "               'reg_i': 7   \n",
    "               }"
   ]
  },
  {
   "cell_type": "code",
   "execution_count": 6,
   "metadata": {},
   "outputs": [],
   "source": [
    "trainset, testset = train_test_split(datatrain, test_size=0.20)"
   ]
  },
  {
   "cell_type": "markdown",
   "metadata": {},
   "source": [
    "# Applying Baseline model"
   ]
  },
  {
   "cell_type": "code",
   "execution_count": 7,
   "metadata": {},
   "outputs": [
    {
     "name": "stdout",
     "output_type": "stream",
     "text": [
      "Estimating biases using als...\n"
     ]
    }
   ],
   "source": [
    "algo = BaselineOnly(bsl_options=bsl_options)\n",
    "predictions_baseline = algo.fit(trainset).test(testset)"
   ]
  },
  {
   "cell_type": "code",
   "execution_count": 8,
   "metadata": {},
   "outputs": [
    {
     "name": "stdout",
     "output_type": "stream",
     "text": [
      "RMSE: 1.0793\n"
     ]
    },
    {
     "data": {
      "text/plain": [
       "1.0793281863598205"
      ]
     },
     "execution_count": 8,
     "metadata": {},
     "output_type": "execute_result"
    }
   ],
   "source": [
    "accuracy.rmse(predictions_baseline)"
   ]
  },
  {
   "cell_type": "code",
   "execution_count": 9,
   "metadata": {},
   "outputs": [
    {
     "name": "stdout",
     "output_type": "stream",
     "text": [
      "Estimating biases using als...\n",
      "Estimating biases using als...\n",
      "Estimating biases using als...\n",
      "Estimating biases using als...\n",
      "Estimating biases using als...\n"
     ]
    },
    {
     "data": {
      "text/plain": [
       "{'test_rmse': array([1.0780467 , 1.07734159, 1.0804667 , 1.07897398, 1.0791776 ]),\n",
       " 'fit_time': (3.30057692527771,\n",
       "  3.9825031757354736,\n",
       "  3.867738723754883,\n",
       "  3.7335381507873535,\n",
       "  3.876842975616455),\n",
       " 'test_time': (2.396864175796509,\n",
       "  2.062152862548828,\n",
       "  1.9600298404693604,\n",
       "  1.8828670978546143,\n",
       "  2.6509549617767334)}"
      ]
     },
     "execution_count": 9,
     "metadata": {},
     "output_type": "execute_result"
    }
   ],
   "source": [
    "cross_validate(algo, datatrain, measures=['RMSE'], cv=5, verbose = False)"
   ]
  },
  {
   "cell_type": "code",
   "execution_count": 10,
   "metadata": {},
   "outputs": [
    {
     "data": {
      "text/plain": [
       "336980"
      ]
     },
     "execution_count": 10,
     "metadata": {},
     "output_type": "execute_result"
    }
   ],
   "source": [
    "len(dftest)"
   ]
  },
  {
   "cell_type": "code",
   "execution_count": 11,
   "metadata": {},
   "outputs": [],
   "source": [
    "ui = np.array(dftest['user_id'])\n",
    "utest = ui.tolist() \n",
    "\n",
    "bi = np.array(dftest['business_id'])\n",
    "btest = bi.tolist()"
   ]
  },
  {
   "cell_type": "code",
   "execution_count": 12,
   "metadata": {},
   "outputs": [],
   "source": [
    "#Predicting the ratings using Baseline model \n",
    "predbaseline = []\n",
    "\n",
    "for item in range(len(dftest)):\n",
    "    predbaseline.append(round(algo.predict(utest[item], btest[item])[3], 2)) #appending pred list "
   ]
  },
  {
   "cell_type": "code",
   "execution_count": 13,
   "metadata": {},
   "outputs": [
    {
     "data": {
      "text/plain": [
       "336980"
      ]
     },
     "execution_count": 13,
     "metadata": {},
     "output_type": "execute_result"
    }
   ],
   "source": [
    "len(predbaseline)"
   ]
  },
  {
   "cell_type": "code",
   "execution_count": 23,
   "metadata": {},
   "outputs": [],
   "source": [
    "from collections import defaultdict\n",
    " \n",
    "def get_top_recommendations(predictions, topN = 5):\n",
    "     \n",
    "    top_recs = defaultdict(list)\n",
    "    for uid, iid, true_r, est, _ in predictions:\n",
    "        top_recs[uid].append((iid, est))\n",
    "     \n",
    "    for uid, user_ratings in top_recs.items():\n",
    "        user_ratings.sort(key = lambda x: x[1], reverse = True)\n",
    "        top_recs[uid] = user_ratings[:topN]\n",
    "     \n",
    "    return top_recs"
   ]
  },
  {
   "cell_type": "code",
   "execution_count": 24,
   "metadata": {},
   "outputs": [],
   "source": [
    "top_recommendations = get_top_recommendations(predictions_baseline)"
   ]
  },
  {
   "cell_type": "code",
   "execution_count": 25,
   "metadata": {},
   "outputs": [
    {
     "name": "stdout",
     "output_type": "stream",
     "text": [
      "user ayS9T8DTm2xV5mrsJIsIrQ\n",
      "item R9bFr7dADF2fosWJjgbyWQ\n",
      "item cj_9eTPR0JBqk9qt2VmzFw\n",
      "item Aov96CM4FZAXeZvKtsStdA\n",
      "item ABRgXNwdOX_JyqChNr8IYw\n"
     ]
    }
   ],
   "source": [
    "# For each user we print recommendation\n",
    "i=0;\n",
    "item_list = []\n",
    "for uid, user_ratings in top_recommendations.items():\n",
    "    print(\"user\", uid)\n",
    "    for (iid, _) in user_ratings:\n",
    "        item_list.append(iid)\n",
    "        print(\"item\", iid)\n",
    "    i=i+1;\n",
    "    if(i==1):\n",
    "        break;"
   ]
  },
  {
   "cell_type": "code",
   "execution_count": 71,
   "metadata": {},
   "outputs": [
    {
     "name": "stdout",
     "output_type": "stream",
     "text": [
      "User ID: 'ayS9T8DTm2xV5mrsJIsIrQ' Restaurant:  ['Swatow Restaurant' 'Hodo Kwaja' 'Que Ling Restaurant'\n",
      " 'Nawzar Meat Market']\n"
     ]
    }
   ],
   "source": [
    "for i in range(len(dftest)):\n",
    "    if dftest['user_id'][i] == 'ayS9T8DTm2xV5mrsJIsIrQ':\n",
    "        print(\"User ID: 'ayS9T8DTm2xV5mrsJIsIrQ' Restaurant: \",dftest[dftest['business_id'].isin(item_list)]['name'].unique())\n",
    "        break"
   ]
  },
  {
   "cell_type": "markdown",
   "metadata": {},
   "source": [
    "# Applying SVD"
   ]
  },
  {
   "cell_type": "code",
   "execution_count": 23,
   "metadata": {},
   "outputs": [
    {
     "name": "stdout",
     "output_type": "stream",
     "text": [
      "Evaluating RMSE of algorithm SVD.\n",
      "\n",
      "------------\n",
      "Fold 1\n",
      "RMSE: 1.0880\n",
      "------------\n",
      "Fold 2\n",
      "RMSE: 1.0880\n",
      "------------\n",
      "Fold 3\n",
      "RMSE: 1.0876\n",
      "------------\n",
      "Fold 4\n",
      "RMSE: 1.0935\n",
      "------------\n",
      "Fold 5\n",
      "RMSE: 1.0888\n",
      "------------\n",
      "------------\n",
      "Mean RMSE: 1.0892\n",
      "------------\n",
      "------------\n"
     ]
    },
    {
     "data": {
      "text/plain": [
       "CaseInsensitiveDefaultDict(list,\n",
       "                           {'rmse': [1.087956748509602,\n",
       "                             1.0880179466707063,\n",
       "                             1.0875660672119771,\n",
       "                             1.093451337618312,\n",
       "                             1.0888466411462412]})"
      ]
     },
     "execution_count": 23,
     "metadata": {},
     "output_type": "execute_result"
    }
   ],
   "source": [
    "svd = SVD()\n",
    "evaluate(svd, datatrain, measures=['RMSE'])"
   ]
  },
  {
   "cell_type": "code",
   "execution_count": 24,
   "metadata": {},
   "outputs": [
    {
     "data": {
      "text/plain": [
       "<surprise.prediction_algorithms.matrix_factorization.SVD at 0x1746231d0>"
      ]
     },
     "execution_count": 24,
     "metadata": {},
     "output_type": "execute_result"
    }
   ],
   "source": [
    "svd.train(trainset)"
   ]
  },
  {
   "cell_type": "code",
   "execution_count": 25,
   "metadata": {},
   "outputs": [],
   "source": [
    "predictions_svd = svd.test(testset)"
   ]
  },
  {
   "cell_type": "code",
   "execution_count": 26,
   "metadata": {},
   "outputs": [
    {
     "name": "stdout",
     "output_type": "stream",
     "text": [
      "RMSE: 1.0885\n"
     ]
    },
    {
     "data": {
      "text/plain": [
       "1.0884932893244363"
      ]
     },
     "execution_count": 26,
     "metadata": {},
     "output_type": "execute_result"
    }
   ],
   "source": [
    "accuracy.rmse(predictions_svd, verbose=True)"
   ]
  },
  {
   "cell_type": "code",
   "execution_count": 27,
   "metadata": {},
   "outputs": [],
   "source": [
    "#Predicting the ratings using SVD model \n",
    "predsvd = []\n",
    "\n",
    "for item in range(len(dftest)):\n",
    "    predsvd.append(round(svd.predict(utest[item], btest[item])[3], 2)) #appending pred list "
   ]
  },
  {
   "cell_type": "markdown",
   "metadata": {},
   "source": [
    "# Applying SVDpp"
   ]
  },
  {
   "cell_type": "code",
   "execution_count": 30,
   "metadata": {},
   "outputs": [],
   "source": [
    "algosvdpp = SVDpp(n_factors=150,n_epochs=40)"
   ]
  },
  {
   "cell_type": "code",
   "execution_count": 31,
   "metadata": {},
   "outputs": [
    {
     "data": {
      "text/plain": [
       "<surprise.prediction_algorithms.matrix_factorization.SVDpp at 0x1510d7438>"
      ]
     },
     "execution_count": 31,
     "metadata": {},
     "output_type": "execute_result"
    }
   ],
   "source": [
    "algosvdpp.fit(trainset)"
   ]
  },
  {
   "cell_type": "code",
   "execution_count": 32,
   "metadata": {},
   "outputs": [],
   "source": [
    "predictions_svdpp = algosvdpp.test(testset)"
   ]
  },
  {
   "cell_type": "code",
   "execution_count": 33,
   "metadata": {},
   "outputs": [
    {
     "name": "stdout",
     "output_type": "stream",
     "text": [
      "RMSE: 1.1172\n"
     ]
    },
    {
     "data": {
      "text/plain": [
       "1.1171530768175075"
      ]
     },
     "execution_count": 33,
     "metadata": {},
     "output_type": "execute_result"
    }
   ],
   "source": [
    "accuracy.rmse(predictions_svdpp, verbose=True)"
   ]
  },
  {
   "cell_type": "code",
   "execution_count": 34,
   "metadata": {},
   "outputs": [],
   "source": [
    "predsvdpp = []\n",
    "\n",
    "for item in range(len(dftest)):\n",
    "    predsvdpp.append(round(algosvdpp.predict(utest[item], btest[item])[3], 2)) #appending pred list "
   ]
  },
  {
   "cell_type": "code",
   "execution_count": null,
   "metadata": {},
   "outputs": [],
   "source": []
  },
  {
   "cell_type": "code",
   "execution_count": 38,
   "metadata": {},
   "outputs": [],
   "source": [
    "#Saving the stars in csv file\n",
    "with open('baseline.csv','w') as filehandle:\n",
    "    for listitem in predbaseline:\n",
    "        filehandle.write('%0.2f\\n' % listitem)"
   ]
  },
  {
   "cell_type": "code",
   "execution_count": 39,
   "metadata": {},
   "outputs": [],
   "source": [
    "with open('svd.csv','w') as filehandle:\n",
    "    for listitem in predsvd:\n",
    "        filehandle.write('%0.2f\\n' % listitem)"
   ]
  },
  {
   "cell_type": "code",
   "execution_count": 40,
   "metadata": {},
   "outputs": [],
   "source": [
    "with open('svdpp.csv','w') as filehandle:\n",
    "    for listitem in predsvdpp:\n",
    "        filehandle.write('%0.2f\\n' % listitem)"
   ]
  },
  {
   "cell_type": "markdown",
   "metadata": {},
   "source": [
    "# Grid Search"
   ]
  },
  {
   "cell_type": "code",
   "execution_count": 1,
   "metadata": {},
   "outputs": [],
   "source": [
    "from surprise.model_selection import GridSearchCV"
   ]
  },
  {
   "cell_type": "code",
   "execution_count": 2,
   "metadata": {},
   "outputs": [],
   "source": [
    "param_grid = {'n_epochs': [5, 10], 'lr_all': [0.002, 0.005,0.1],\n",
    "              'reg_all': [0.4, 0.6], 'n_factors':[10,50]}"
   ]
  },
  {
   "cell_type": "code",
   "execution_count": 5,
   "metadata": {},
   "outputs": [],
   "source": [
    "grid_search = GridSearchCV(SVD, param_grid, measures=['rmse','mae'], cv=3)"
   ]
  },
  {
   "cell_type": "code",
   "execution_count": 8,
   "metadata": {},
   "outputs": [],
   "source": [
    "grid_search.fit(datatrain)\n",
    "#Took a lot of time to train, so skip Grid Search model."
   ]
  },
  {
   "cell_type": "code",
   "execution_count": null,
   "metadata": {},
   "outputs": [],
   "source": []
  }
 ],
 "metadata": {
  "kernelspec": {
   "display_name": "Python 3",
   "language": "python",
   "name": "python3"
  },
  "language_info": {
   "codemirror_mode": {
    "name": "ipython",
    "version": 3
   },
   "file_extension": ".py",
   "mimetype": "text/x-python",
   "name": "python",
   "nbconvert_exporter": "python",
   "pygments_lexer": "ipython3",
   "version": "3.6.5"
  }
 },
 "nbformat": 4,
 "nbformat_minor": 2
}
