{
 "cells": [
  {
   "cell_type": "code",
   "execution_count": 1,
   "metadata": {},
   "outputs": [],
   "source": [
    "from surprise.model_selection import cross_validate\n",
    "import pandas as pd\n",
    "import numpy as np\n",
    "import os, io\n",
    "from surprise import SVDpp\n",
    "from surprise import accuracy\n",
    "from surprise import Reader, Dataset, SVD, evaluate\n",
    "from surprise import SVDpp\n",
    "\n",
    "from surprise.model_selection import train_test_split\n",
    "\n",
    "import warnings\n",
    "warnings.filterwarnings(\"ignore\")"
   ]
  },
  {
   "cell_type": "code",
   "execution_count": 28,
   "metadata": {},
   "outputs": [],
   "source": [
    "#Reading training dataset\n",
    "df = pd.read_csv('yelp_restaurant_train.csv')"
   ]
  },
  {
   "cell_type": "code",
   "execution_count": 29,
   "metadata": {},
   "outputs": [
    {
     "data": {
      "text/html": [
       "<div>\n",
       "<style scoped>\n",
       "    .dataframe tbody tr th:only-of-type {\n",
       "        vertical-align: middle;\n",
       "    }\n",
       "\n",
       "    .dataframe tbody tr th {\n",
       "        vertical-align: top;\n",
       "    }\n",
       "\n",
       "    .dataframe thead th {\n",
       "        text-align: right;\n",
       "    }\n",
       "</style>\n",
       "<table border=\"1\" class=\"dataframe\">\n",
       "  <thead>\n",
       "    <tr style=\"text-align: right;\">\n",
       "      <th></th>\n",
       "      <th>business_id</th>\n",
       "      <th>date</th>\n",
       "      <th>review_id</th>\n",
       "      <th>text</th>\n",
       "      <th>user_id</th>\n",
       "      <th>attributes</th>\n",
       "      <th>name</th>\n",
       "      <th>city</th>\n",
       "      <th>categories</th>\n",
       "      <th>avg_business_stars</th>\n",
       "      <th>avg_user_star</th>\n",
       "      <th>stars</th>\n",
       "    </tr>\n",
       "  </thead>\n",
       "  <tbody>\n",
       "    <tr>\n",
       "      <th>0</th>\n",
       "      <td>HMSDOjt_KCyknzjQ9aI5Jw</td>\n",
       "      <td>2018-11-04 23:44:27</td>\n",
       "      <td>0HWPTEnVT7L5BCKj33erLQ</td>\n",
       "      <td>I would like to start with the classic line \"I...</td>\n",
       "      <td>iGtInQDTZ89mKnkhFWdlfA</td>\n",
       "      <td>{'OutdoorSeating': 'True', 'RestaurantsGoodFor...</td>\n",
       "      <td>Tomo Noodles and Dumplings</td>\n",
       "      <td>Las Vegas</td>\n",
       "      <td>Noodles, Restaurants, Japanese, Ramen</td>\n",
       "      <td>4.0</td>\n",
       "      <td>3.04</td>\n",
       "      <td>1.0</td>\n",
       "    </tr>\n",
       "    <tr>\n",
       "      <th>1</th>\n",
       "      <td>yXiDD18UV49-7UhA6dWjAw</td>\n",
       "      <td>2018-09-07 20:41:42</td>\n",
       "      <td>Y6xCQlzc9YTXD3IKMGN-oQ</td>\n",
       "      <td>We come here for once at least once a month. I...</td>\n",
       "      <td>O3cItff0mKAfXtl5VmbW2w</td>\n",
       "      <td>{'GoodForMeal': \"{'dessert': False, 'latenight...</td>\n",
       "      <td>Giacomo's Pizzeria and Italian Restaurant</td>\n",
       "      <td>Charlotte</td>\n",
       "      <td>Sandwiches, Pizza, Italian, Restaurants, Event...</td>\n",
       "      <td>4.0</td>\n",
       "      <td>4.15</td>\n",
       "      <td>4.0</td>\n",
       "    </tr>\n",
       "    <tr>\n",
       "      <th>2</th>\n",
       "      <td>VSNUFYBQ_wOFmRXZ8SeQ4w</td>\n",
       "      <td>2015-09-30 02:07:55</td>\n",
       "      <td>9j_uLXkEgpN52Lz5VJ8sMQ</td>\n",
       "      <td>First meal in Pittsburgh was courtesy of S&amp;D! ...</td>\n",
       "      <td>U5YQX_vMl_xQy8EQDqlNQQ</td>\n",
       "      <td>{'Alcohol': \"u'none'\", 'DogsAllowed': 'False',...</td>\n",
       "      <td>S&amp;D Polish Deli</td>\n",
       "      <td>Pittsburgh</td>\n",
       "      <td>Polish, Ethnic Food, Specialty Food, Food, Res...</td>\n",
       "      <td>4.5</td>\n",
       "      <td>3.48</td>\n",
       "      <td>4.0</td>\n",
       "    </tr>\n",
       "    <tr>\n",
       "      <th>3</th>\n",
       "      <td>lVVJMvqu4LXL5rBqjO6eqg</td>\n",
       "      <td>2015-05-30 07:40:17</td>\n",
       "      <td>xilO0UqpI_EYJg0nzTBqzw</td>\n",
       "      <td>The Pork bone soup is delicious! The broth loo...</td>\n",
       "      <td>JrgMipJRhagq42ROTzC_CQ</td>\n",
       "      <td>{'HasTV': 'False', 'WiFi': \"u'no'\", 'BusinessP...</td>\n",
       "      <td>Tofu Village - House of Soon Tofu</td>\n",
       "      <td>Toronto</td>\n",
       "      <td>Restaurants, Korean</td>\n",
       "      <td>4.5</td>\n",
       "      <td>2.53</td>\n",
       "      <td>4.0</td>\n",
       "    </tr>\n",
       "    <tr>\n",
       "      <th>4</th>\n",
       "      <td>EEIz44ewHhOKmfTloAK13g</td>\n",
       "      <td>2017-11-19 16:47:26</td>\n",
       "      <td>P5LDWTH6cxQK-_IWtvyOWw</td>\n",
       "      <td>Words cannot express how delectably divine a d...</td>\n",
       "      <td>8lofUN7rFkwT2bw4b5SM4g</td>\n",
       "      <td>{'RestaurantsPriceRange2': '4', 'RestaurantsTa...</td>\n",
       "      <td>Alo Restaurant</td>\n",
       "      <td>Toronto</td>\n",
       "      <td>Bars, Nightlife, Restaurants, French</td>\n",
       "      <td>4.5</td>\n",
       "      <td>3.97</td>\n",
       "      <td>5.0</td>\n",
       "    </tr>\n",
       "  </tbody>\n",
       "</table>\n",
       "</div>"
      ],
      "text/plain": [
       "              business_id                 date               review_id  \\\n",
       "0  HMSDOjt_KCyknzjQ9aI5Jw  2018-11-04 23:44:27  0HWPTEnVT7L5BCKj33erLQ   \n",
       "1  yXiDD18UV49-7UhA6dWjAw  2018-09-07 20:41:42  Y6xCQlzc9YTXD3IKMGN-oQ   \n",
       "2  VSNUFYBQ_wOFmRXZ8SeQ4w  2015-09-30 02:07:55  9j_uLXkEgpN52Lz5VJ8sMQ   \n",
       "3  lVVJMvqu4LXL5rBqjO6eqg  2015-05-30 07:40:17  xilO0UqpI_EYJg0nzTBqzw   \n",
       "4  EEIz44ewHhOKmfTloAK13g  2017-11-19 16:47:26  P5LDWTH6cxQK-_IWtvyOWw   \n",
       "\n",
       "                                                text                 user_id  \\\n",
       "0  I would like to start with the classic line \"I...  iGtInQDTZ89mKnkhFWdlfA   \n",
       "1  We come here for once at least once a month. I...  O3cItff0mKAfXtl5VmbW2w   \n",
       "2  First meal in Pittsburgh was courtesy of S&D! ...  U5YQX_vMl_xQy8EQDqlNQQ   \n",
       "3  The Pork bone soup is delicious! The broth loo...  JrgMipJRhagq42ROTzC_CQ   \n",
       "4  Words cannot express how delectably divine a d...  8lofUN7rFkwT2bw4b5SM4g   \n",
       "\n",
       "                                          attributes  \\\n",
       "0  {'OutdoorSeating': 'True', 'RestaurantsGoodFor...   \n",
       "1  {'GoodForMeal': \"{'dessert': False, 'latenight...   \n",
       "2  {'Alcohol': \"u'none'\", 'DogsAllowed': 'False',...   \n",
       "3  {'HasTV': 'False', 'WiFi': \"u'no'\", 'BusinessP...   \n",
       "4  {'RestaurantsPriceRange2': '4', 'RestaurantsTa...   \n",
       "\n",
       "                                        name        city  \\\n",
       "0                 Tomo Noodles and Dumplings   Las Vegas   \n",
       "1  Giacomo's Pizzeria and Italian Restaurant   Charlotte   \n",
       "2                            S&D Polish Deli  Pittsburgh   \n",
       "3          Tofu Village - House of Soon Tofu     Toronto   \n",
       "4                             Alo Restaurant     Toronto   \n",
       "\n",
       "                                          categories  avg_business_stars  \\\n",
       "0              Noodles, Restaurants, Japanese, Ramen                 4.0   \n",
       "1  Sandwiches, Pizza, Italian, Restaurants, Event...                 4.0   \n",
       "2  Polish, Ethnic Food, Specialty Food, Food, Res...                 4.5   \n",
       "3                                Restaurants, Korean                 4.5   \n",
       "4               Bars, Nightlife, Restaurants, French                 4.5   \n",
       "\n",
       "   avg_user_star  stars  \n",
       "0           3.04    1.0  \n",
       "1           4.15    4.0  \n",
       "2           3.48    4.0  \n",
       "3           2.53    4.0  \n",
       "4           3.97    5.0  "
      ]
     },
     "execution_count": 29,
     "metadata": {},
     "output_type": "execute_result"
    }
   ],
   "source": [
    "df.head()"
   ]
  },
  {
   "cell_type": "markdown",
   "metadata": {},
   "source": [
    "# User Star Ratings"
   ]
  },
  {
   "cell_type": "code",
   "execution_count": 5,
   "metadata": {},
   "outputs": [],
   "source": [
    "reader = Reader()\n",
    "data = Dataset.load_from_df(df[['user_id', 'business_id', 'avg_user_star']], reader)"
   ]
  },
  {
   "cell_type": "code",
   "execution_count": 6,
   "metadata": {},
   "outputs": [],
   "source": [
    "trainset, testset = train_test_split(data, test_size=0.20)"
   ]
  },
  {
   "cell_type": "code",
   "execution_count": 7,
   "metadata": {},
   "outputs": [],
   "source": [
    "bsl_options = {'method': 'als',\n",
    "               'n_epochs': 7, \n",
    "               'reg_u': 3, \n",
    "               'reg_i': 7   \n",
    "               }"
   ]
  },
  {
   "cell_type": "code",
   "execution_count": 8,
   "metadata": {},
   "outputs": [
    {
     "name": "stdout",
     "output_type": "stream",
     "text": [
      "Estimating biases using als...\n",
      "RMSE: 0.1264\n"
     ]
    },
    {
     "data": {
      "text/plain": [
       "0.1264270484754842"
      ]
     },
     "execution_count": 8,
     "metadata": {},
     "output_type": "execute_result"
    }
   ],
   "source": [
    "from surprise import BaselineOnly\n",
    "\n",
    "algo = BaselineOnly(bsl_options=bsl_options)\n",
    "predictions_baseline = algo.fit(trainset).test(testset)\n",
    "accuracy.rmse(predictions_baseline)"
   ]
  },
  {
   "cell_type": "code",
   "execution_count": 9,
   "metadata": {},
   "outputs": [
    {
     "name": "stdout",
     "output_type": "stream",
     "text": [
      "Estimating biases using als...\n",
      "Estimating biases using als...\n",
      "Estimating biases using als...\n",
      "Estimating biases using als...\n",
      "Estimating biases using als...\n"
     ]
    },
    {
     "data": {
      "text/plain": [
       "{'test_rmse': array([0.12563296, 0.12734727, 0.12682037, 0.12629366, 0.12710169]),\n",
       " 'fit_time': (3.4509639739990234,\n",
       "  3.5700008869171143,\n",
       "  3.8514671325683594,\n",
       "  3.7625977993011475,\n",
       "  3.895721912384033),\n",
       " 'test_time': (1.8759520053863525,\n",
       "  1.7806272506713867,\n",
       "  1.8156070709228516,\n",
       "  1.7401683330535889,\n",
       "  2.370877742767334)}"
      ]
     },
     "execution_count": 9,
     "metadata": {},
     "output_type": "execute_result"
    }
   ],
   "source": [
    "cross_validate(algo, data, measures=['RMSE'], cv=5, verbose = False)"
   ]
  },
  {
   "cell_type": "code",
   "execution_count": 10,
   "metadata": {},
   "outputs": [
    {
     "name": "stdout",
     "output_type": "stream",
     "text": [
      "Evaluating RMSE of algorithm SVD.\n",
      "\n",
      "------------\n",
      "Fold 1\n",
      "RMSE: 0.2271\n",
      "------------\n",
      "Fold 2\n",
      "RMSE: 0.2269\n",
      "------------\n",
      "Fold 3\n",
      "RMSE: 0.2285\n",
      "------------\n",
      "Fold 4\n",
      "RMSE: 0.2275\n",
      "------------\n",
      "Fold 5\n",
      "RMSE: 0.2273\n",
      "------------\n",
      "------------\n",
      "Mean RMSE: 0.2275\n",
      "------------\n",
      "------------\n"
     ]
    },
    {
     "data": {
      "text/plain": [
       "CaseInsensitiveDefaultDict(list,\n",
       "                           {'rmse': [0.2270822142246678,\n",
       "                             0.22691808309721279,\n",
       "                             0.22847824232339808,\n",
       "                             0.22752754548074253,\n",
       "                             0.22731541265987198]})"
      ]
     },
     "execution_count": 10,
     "metadata": {},
     "output_type": "execute_result"
    }
   ],
   "source": [
    "#Evaluating RMSE of SVD algorithm\n",
    "svd = SVD()\n",
    "evaluate(svd, data, measures=['RMSE'])"
   ]
  },
  {
   "cell_type": "code",
   "execution_count": 11,
   "metadata": {},
   "outputs": [
    {
     "data": {
      "text/plain": [
       "<surprise.prediction_algorithms.matrix_factorization.SVD at 0x118ad3cc0>"
      ]
     },
     "execution_count": 11,
     "metadata": {},
     "output_type": "execute_result"
    }
   ],
   "source": [
    "#Creating training Set\n",
    "svd.train(trainset)"
   ]
  },
  {
   "cell_type": "code",
   "execution_count": 13,
   "metadata": {},
   "outputs": [],
   "source": [
    "predictions_svd = svd.test(testset)"
   ]
  },
  {
   "cell_type": "code",
   "execution_count": 14,
   "metadata": {},
   "outputs": [
    {
     "name": "stdout",
     "output_type": "stream",
     "text": [
      "RMSE: 0.2278\n"
     ]
    },
    {
     "data": {
      "text/plain": [
       "0.22782990343296713"
      ]
     },
     "execution_count": 14,
     "metadata": {},
     "output_type": "execute_result"
    }
   ],
   "source": [
    "accuracy.rmse(predictions_svd, verbose=True)"
   ]
  },
  {
   "cell_type": "code",
   "execution_count": 18,
   "metadata": {},
   "outputs": [],
   "source": [
    "algo = SVDpp(n_factors=150,n_epochs=20)"
   ]
  },
  {
   "cell_type": "code",
   "execution_count": 19,
   "metadata": {},
   "outputs": [
    {
     "data": {
      "text/plain": [
       "<surprise.prediction_algorithms.matrix_factorization.SVDpp at 0x16e5ac278>"
      ]
     },
     "execution_count": 19,
     "metadata": {},
     "output_type": "execute_result"
    }
   ],
   "source": [
    "algo.fit(trainset)"
   ]
  },
  {
   "cell_type": "code",
   "execution_count": 20,
   "metadata": {},
   "outputs": [],
   "source": [
    "predictions_svdpp = algo.test(testset)"
   ]
  },
  {
   "cell_type": "code",
   "execution_count": 21,
   "metadata": {},
   "outputs": [
    {
     "name": "stdout",
     "output_type": "stream",
     "text": [
      "RMSE: 0.2180\n"
     ]
    },
    {
     "data": {
      "text/plain": [
       "0.2180187569157979"
      ]
     },
     "execution_count": 21,
     "metadata": {},
     "output_type": "execute_result"
    }
   ],
   "source": [
    "accuracy.rmse(predictions_svdpp, verbose=True)"
   ]
  },
  {
   "cell_type": "code",
   "execution_count": 23,
   "metadata": {},
   "outputs": [],
   "source": [
    "algosvdpp = SVDpp(n_factors=150,n_epochs=40)"
   ]
  },
  {
   "cell_type": "code",
   "execution_count": 24,
   "metadata": {},
   "outputs": [
    {
     "data": {
      "text/plain": [
       "<surprise.prediction_algorithms.matrix_factorization.SVDpp at 0x16e5ac438>"
      ]
     },
     "execution_count": 24,
     "metadata": {},
     "output_type": "execute_result"
    }
   ],
   "source": [
    "algosvdpp.fit(trainset)"
   ]
  },
  {
   "cell_type": "code",
   "execution_count": 25,
   "metadata": {},
   "outputs": [],
   "source": [
    "predictions_svdpp = algosvdpp.test(testset)"
   ]
  },
  {
   "cell_type": "code",
   "execution_count": 26,
   "metadata": {},
   "outputs": [
    {
     "name": "stdout",
     "output_type": "stream",
     "text": [
      "RMSE: 0.1646\n"
     ]
    },
    {
     "data": {
      "text/plain": [
       "0.16462905899520572"
      ]
     },
     "execution_count": 26,
     "metadata": {},
     "output_type": "execute_result"
    }
   ],
   "source": [
    "accuracy.rmse(predictions_svdpp, verbose=True)"
   ]
  },
  {
   "cell_type": "markdown",
   "metadata": {},
   "source": [
    "# Business Star Ratings"
   ]
  },
  {
   "cell_type": "code",
   "execution_count": 31,
   "metadata": {},
   "outputs": [],
   "source": [
    "reader = Reader()\n",
    "data2 = Dataset.load_from_df(df[['user_id', 'business_id', 'avg_business_stars']], reader)"
   ]
  },
  {
   "cell_type": "code",
   "execution_count": 32,
   "metadata": {},
   "outputs": [],
   "source": [
    "btrainset, btestset = train_test_split(data2, test_size=0.20)"
   ]
  },
  {
   "cell_type": "code",
   "execution_count": 33,
   "metadata": {},
   "outputs": [],
   "source": [
    "bsl_options = {'method': 'als',\n",
    "               'n_epochs': 7, \n",
    "               'reg_u': 3, \n",
    "               'reg_i': 7   \n",
    "               }"
   ]
  },
  {
   "cell_type": "code",
   "execution_count": 34,
   "metadata": {},
   "outputs": [
    {
     "name": "stdout",
     "output_type": "stream",
     "text": [
      "Estimating biases using als...\n",
      "RMSE: 0.2470\n"
     ]
    },
    {
     "data": {
      "text/plain": [
       "0.247034489729352"
      ]
     },
     "execution_count": 34,
     "metadata": {},
     "output_type": "execute_result"
    }
   ],
   "source": [
    "algo = BaselineOnly(bsl_options=bsl_options)\n",
    "predictions_baseline = algo.fit(btrainset).test(btestset)\n",
    "accuracy.rmse(predictions_baseline)"
   ]
  },
  {
   "cell_type": "code",
   "execution_count": 35,
   "metadata": {},
   "outputs": [
    {
     "name": "stdout",
     "output_type": "stream",
     "text": [
      "Estimating biases using als...\n",
      "Estimating biases using als...\n",
      "Estimating biases using als...\n",
      "Estimating biases using als...\n",
      "Estimating biases using als...\n"
     ]
    },
    {
     "data": {
      "text/plain": [
       "{'test_rmse': array([0.24586841, 0.2441069 , 0.24629341, 0.24755228, 0.24628698]),\n",
       " 'fit_time': (3.4438629150390625,\n",
       "  3.9018750190734863,\n",
       "  4.1725029945373535,\n",
       "  4.077677965164185,\n",
       "  4.303909063339233),\n",
       " 'test_time': (2.4462530612945557,\n",
       "  2.990434169769287,\n",
       "  1.5622899532318115,\n",
       "  2.662278175354004,\n",
       "  2.9894511699676514)}"
      ]
     },
     "execution_count": 35,
     "metadata": {},
     "output_type": "execute_result"
    }
   ],
   "source": [
    "cross_validate(algo, data2, measures=['RMSE'], cv=5, verbose = False)"
   ]
  },
  {
   "cell_type": "code",
   "execution_count": 36,
   "metadata": {},
   "outputs": [
    {
     "name": "stdout",
     "output_type": "stream",
     "text": [
      "Evaluating RMSE of algorithm SVD.\n",
      "\n",
      "------------\n",
      "Fold 1\n",
      "RMSE: 0.2654\n",
      "------------\n",
      "Fold 2\n",
      "RMSE: 0.2630\n",
      "------------\n",
      "Fold 3\n",
      "RMSE: 0.2626\n",
      "------------\n",
      "Fold 4\n",
      "RMSE: 0.2643\n",
      "------------\n",
      "Fold 5\n",
      "RMSE: 0.2624\n",
      "------------\n",
      "------------\n",
      "Mean RMSE: 0.2635\n",
      "------------\n",
      "------------\n"
     ]
    },
    {
     "data": {
      "text/plain": [
       "CaseInsensitiveDefaultDict(list,\n",
       "                           {'rmse': [0.2654421767982772,\n",
       "                             0.26297453710780183,\n",
       "                             0.26257294662313757,\n",
       "                             0.2642893780657295,\n",
       "                             0.2623721002944852]})"
      ]
     },
     "execution_count": 36,
     "metadata": {},
     "output_type": "execute_result"
    }
   ],
   "source": [
    "#Evaluating RMSE of SVD algorithm\n",
    "svd = SVD()\n",
    "evaluate(svd, data2, measures=['RMSE'])"
   ]
  },
  {
   "cell_type": "code",
   "execution_count": 37,
   "metadata": {},
   "outputs": [
    {
     "name": "stdout",
     "output_type": "stream",
     "text": [
      "RMSE: 0.2645\n"
     ]
    },
    {
     "data": {
      "text/plain": [
       "0.26452979677741395"
      ]
     },
     "execution_count": 37,
     "metadata": {},
     "output_type": "execute_result"
    }
   ],
   "source": [
    "svd.train(btrainset)\n",
    "predictions_svd = svd.test(btestset)\n",
    "accuracy.rmse(predictions_svd, verbose=True)"
   ]
  },
  {
   "cell_type": "code",
   "execution_count": 38,
   "metadata": {},
   "outputs": [],
   "source": [
    "algosvdpp = SVDpp(n_factors=150,n_epochs=40)"
   ]
  },
  {
   "cell_type": "code",
   "execution_count": 39,
   "metadata": {},
   "outputs": [
    {
     "data": {
      "text/plain": [
       "<surprise.prediction_algorithms.matrix_factorization.SVDpp at 0x11eb21eb8>"
      ]
     },
     "execution_count": 39,
     "metadata": {},
     "output_type": "execute_result"
    }
   ],
   "source": [
    "algosvdpp.fit(btrainset)"
   ]
  },
  {
   "cell_type": "code",
   "execution_count": 40,
   "metadata": {},
   "outputs": [],
   "source": [
    "predictions_svdpp = algosvdpp.test(btestset)"
   ]
  },
  {
   "cell_type": "code",
   "execution_count": 41,
   "metadata": {},
   "outputs": [
    {
     "name": "stdout",
     "output_type": "stream",
     "text": [
      "RMSE: 0.2312\n"
     ]
    },
    {
     "data": {
      "text/plain": [
       "0.2312354772651732"
      ]
     },
     "execution_count": 41,
     "metadata": {},
     "output_type": "execute_result"
    }
   ],
   "source": [
    "accuracy.rmse(predictions_svdpp, verbose=True)"
   ]
  },
  {
   "cell_type": "code",
   "execution_count": null,
   "metadata": {},
   "outputs": [],
   "source": []
  }
 ],
 "metadata": {
  "kernelspec": {
   "display_name": "Python 3",
   "language": "python",
   "name": "python3"
  },
  "language_info": {
   "codemirror_mode": {
    "name": "ipython",
    "version": 3
   },
   "file_extension": ".py",
   "mimetype": "text/x-python",
   "name": "python",
   "nbconvert_exporter": "python",
   "pygments_lexer": "ipython3",
   "version": "3.6.5"
  }
 },
 "nbformat": 4,
 "nbformat_minor": 2
}
